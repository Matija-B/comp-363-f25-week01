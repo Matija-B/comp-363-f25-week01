{
 "cells": [
  {
   "cell_type": "markdown",
   "metadata": {},
   "source": [
    "Looking at my code and I can see that that there are some similarities within my code. \n",
    "\n",
    "I see that starting the code I added count and label and made sure to call my cound_and_label to get the number of components and label the vertexes. \n",
    "\n"
   ]
  },
  {
   "cell_type": "code",
   "execution_count": null,
   "metadata": {},
   "outputs": [],
   "source": [
    "count, label = count_and_label(T)"
   ]
  },
  {
   "cell_type": "markdown",
   "metadata": {},
   "source": [
    "I also made sure that I made a while loop shwoing while there are two or more components.\n",
    "\n",
    "while count > 1:\n"
   ]
  },
  {
   "cell_type": "markdown",
   "metadata": {},
   "source": [
    "Inside the the loop did do a nest double loop inside and suring inside the loop which is different then the solution but I also checked that if there if there is an edge between u and v and chekcing if they are different instead of doing to if's I did a and statment which the logic should be the same. \n",
    "\n",
    "       for u in range(len(G)):\n",
    "            for v in range(len(G)):\n",
    "                #Then we want to check if there are no edge cases. \n",
    "                if G[u][v] != G[0][0] and label[u] != label[v]:\n"
   ]
  },
  {
   "cell_type": "markdown",
   "metadata": {},
   "source": [
    "Looking at my code I saw that the solution code was implemented a bit different by how we wanted to have checking the safe edge differently. In my code I did it as a single if statement as it was shown in the pseudo that I used in the textbook. I first checked that if there was no edge as shown in the code but on the same line I checked by saying OR then checking which of the edges as the smaller weight. And similer to the solution and my code I also updated the smaller edge. \n",
    "\n",
    " if safe[label[u]] == None or G[u][v] < G[safe[label[u]][0]][safe[label[u]][1]]:\n",
    "                            #We update the edge \n",
    "                            safe[label[u]] = (u,v)\n",
    "                            # Same thing for v\n",
    "                        if safe[label[v]] == None or G[u][v] < G[safe[label[v]][0]][safe[label[v]][1]]:\n",
    "                            #We update the edge\n",
    "                            safe[label[v]] = (v,u)\n",
    "\n",
    "In the solution code it really is more broken up into pieces But looking at the solution it from what I am understanding is that we still check that if their is no safe edge and if there isn't we want to update it. But if there is a safe edge we then want to compare the weight of the two edges and see which one is smaller. If one edge is smaller then we still need to update. We also need to make sure that we do this for component u and then component v which is important. \n",
    "\n",
    "\n",
    "if safe_edge[component_label[u]] is None:\n",
    "                                # There is no safe edge for this component yet, so let's\n",
    "                                # assume that (u,v) is just it. And here is how to represent\n",
    "                                # the safe edge of a component.\n",
    "                                safe_edge[component_label[u]] = [u, v]\n",
    "                            else:\n",
    "                                # There is currently a safe edge for this vertex, but is\n",
    "                                # it truly the safest? Let's find out. Is edge (u,v)\n",
    "                                # safer than the current safe edge for this component?\n",
    "                                current_component = component_label[u]\n",
    "                                current_safe_edge = safe_edge[current_component]\n",
    "                                a = current_safe_edge[0]  # safe edge vertex a\n",
    "                                b = current_safe_edge[1]  # safe edge vertex b\n",
    "                                # Look up input graph for weigh of edge (a,b)\n",
    "                                current_weight = self.G[a][b]\n",
    "                                # Which of two edges (a,b) and (u,v) is safer, ie,\n",
    "                                # has the smallest weight?\n",
    "                                if self.G[u][v] < current_weight:\n",
    "                                    # If (u,v) is smaller than the existing safe\n",
    "                                    # edge (a,b) make (u,v) the safe edge for the\n",
    "                                    # current component.\n",
    "                                    safe_edge[current_component] = [u, v]\n",
    "                            # It's component v's turn now. We repeat the same\n",
    "                            # logic as above, but for component of vertex v. The\n",
    "                            # code is a bit less verbose this time.\n",
    "                            if safe_edge[component_label[v]] is None:\n",
    "                                safe_edge[component_label[v]] = [v, u]\n",
    "                            else:\n",
    "                                [a, b] = safe_edge[component_label[v]]\n",
    "                                if self.G[v][u] < self.G[a][b]:\n",
    "                                    safe_edge[component_label[v]] = [v, u]"
   ]
  },
  {
   "cell_type": "markdown",
   "metadata": {},
   "source": [
    "# Add all the safe edges to the candidate MST\n",
    "            for edge in safe_edge:\n",
    "                if edge is not None:\n",
    "                    u = edge[0]\n",
    "                    v = edge[1]\n",
    "                    self.T[u][v] = self.G[u][v]\n",
    "                    self.T[v][u] = self.G[v][u]\n",
    "            # Recount the components and re-label the vertices\n",
    "            count_of_components, component_label = self._count_and_label()\n",
    "        return self.T  # Done! \n",
    "\n",
    "        I think that the biggest part of the code I mised, and that was adding all the safe edges. We iterate through the safe edges and we check if there is not a null. Then we put the value of index 0 in u and the value of index 1 in v. Then we place safe.G[u][v] in self.T[u][v] and self.G[v][u] in self.T[v][u]. After we make sure we recount and label the components, and return. \n"
   ]
  }
 ],
 "metadata": {
  "language_info": {
   "name": "python"
  }
 },
 "nbformat": 4,
 "nbformat_minor": 2
}
